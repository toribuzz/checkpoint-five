{
 "cells": [
  {
   "cell_type": "markdown",
   "metadata": {
    "azdata_cell_guid": "c9a57f69-e372-43d2-94fc-ab1a9097069f"
   },
   "source": [
    "# Checkpoint Five: Modeling Data\n",
    "\n",
    "With your visualizations ready to go, the final step in your project is to do some predictive analysis on your dataset. You will be using linear regression for your model. You will not be penalized if your linear regression model does not work out. You just need to build the model and make notes as to the results.\n",
    "\n",
    "Link to my dataset:\n",
    "\n",
    "## Prepare Your Dataframe\n",
    "\n",
    "Import any libraries you need and create a dataframe."
   ]
  },
  {
   "cell_type": "code",
   "execution_count": 21,
   "metadata": {
    "azdata_cell_guid": "f9287db4-8af9-4bce-9a54-ffeeee0e045f"
   },
   "outputs": [],
   "source": [
    "import numpy as np\n",
    "import pandas as pd\n",
    "import matplotlib.pyplot as plt \n",
    "import seaborn as sb\n",
    "import datetime as dt\n",
    "\n",
    "\n",
    "df = pd.read_csv(\"universal_studio_branches.csv\")\n",
    "df['written_date'] = pd.to_datetime(df['written_date'])\n",
    "df['Converted Date'] = df['written_date'].map(dt.datetime.toordinal)"
   ]
  },
  {
   "cell_type": "markdown",
   "metadata": {
    "azdata_cell_guid": "d794ffe0-9cd3-4812-bc7d-f75460cf611c"
   },
   "source": [
    "## Find Correlations\n",
    "\n",
    "Use either pairplot or a heatmap or both to find the two variables with the strongest correlation in your dataset."
   ]
  },
  {
   "cell_type": "code",
   "execution_count": 7,
   "metadata": {
    "azdata_cell_guid": "b009376d-9eb1-4cf0-9487-f0ddc3dbc1cd"
   },
   "outputs": [
    {
     "data": {
      "image/png": "[encoded data removed]",
      "text/plain": [
       "<Figure size 1080x576 with 2 Axes>"
      ]
     },
     "metadata": {},
     "output_type": "display_data"
    }
   ],
   "source": [
    "sb.set(rc = {'figure.figsize':(15,8)})\n",
    "sb.heatmap(df.corr(),annot = True)\n",
    "\n",
    "\n",
    "\n",
    "\n",
    "plt.show()"
   ]
  },
  {
   "cell_type": "code",
   "execution_count": 22,
   "metadata": {},
   "outputs": [
    {
     "data": {
      "text/html": [
       "<div>\n",
       "<style scoped>\n",
       "    .dataframe tbody tr th:only-of-type {\n",
       "        vertical-align: middle;\n",
       "    }\n",
       "\n",
       "    .dataframe tbody tr th {\n",
       "        vertical-align: top;\n",
       "    }\n",
       "\n",
       "    .dataframe thead th {\n",
       "        text-align: right;\n",
       "    }\n",
       "</style>\n",
       "<table border=\"1\" class=\"dataframe\">\n",
       "  <thead>\n",
       "    <tr style=\"text-align: right;\">\n",
       "      <th></th>\n",
       "      <th>Unnamed: 0</th>\n",
       "      <th>reviewer</th>\n",
       "      <th>rating</th>\n",
       "      <th>written_date</th>\n",
       "      <th>title</th>\n",
       "      <th>review_text</th>\n",
       "      <th>branch</th>\n",
       "      <th>Converted Date</th>\n",
       "    </tr>\n",
       "  </thead>\n",
       "  <tbody>\n",
       "    <tr>\n",
       "      <th>0</th>\n",
       "      <td>0</td>\n",
       "      <td>Kelly B</td>\n",
       "      <td>2.0</td>\n",
       "      <td>2021-05-30</td>\n",
       "      <td>Universal is a complete Disaster - stick with ...</td>\n",
       "      <td>We went to Universal over Memorial Day weekend...</td>\n",
       "      <td>Universal Studios Florida</td>\n",
       "      <td>737940</td>\n",
       "    </tr>\n",
       "    <tr>\n",
       "      <th>1</th>\n",
       "      <td>1</td>\n",
       "      <td>Jon</td>\n",
       "      <td>1.0</td>\n",
       "      <td>2021-05-30</td>\n",
       "      <td>Food is hard to get.</td>\n",
       "      <td>The food service is horrible. I’m not reviewin...</td>\n",
       "      <td>Universal Studios Florida</td>\n",
       "      <td>737940</td>\n",
       "    </tr>\n",
       "    <tr>\n",
       "      <th>2</th>\n",
       "      <td>2</td>\n",
       "      <td>Nerdy P</td>\n",
       "      <td>2.0</td>\n",
       "      <td>2021-05-30</td>\n",
       "      <td>Disappointed</td>\n",
       "      <td>I booked this vacation mainly to ride Hagrid m...</td>\n",
       "      <td>Universal Studios Florida</td>\n",
       "      <td>737940</td>\n",
       "    </tr>\n",
       "    <tr>\n",
       "      <th>3</th>\n",
       "      <td>3</td>\n",
       "      <td>ran101278</td>\n",
       "      <td>4.0</td>\n",
       "      <td>2021-05-29</td>\n",
       "      <td>My opinion</td>\n",
       "      <td>When a person tries the test seat for the ride...</td>\n",
       "      <td>Universal Studios Florida</td>\n",
       "      <td>737939</td>\n",
       "    </tr>\n",
       "    <tr>\n",
       "      <th>4</th>\n",
       "      <td>4</td>\n",
       "      <td>tammies20132015</td>\n",
       "      <td>5.0</td>\n",
       "      <td>2021-05-28</td>\n",
       "      <td>The Bourne Stuntacular...MUST SEE</td>\n",
       "      <td>Ok, I can't stress enough to anyone and everyo...</td>\n",
       "      <td>Universal Studios Florida</td>\n",
       "      <td>737938</td>\n",
       "    </tr>\n",
       "  </tbody>\n",
       "</table>\n",
       "</div>"
      ],
      "text/plain": [
       "   Unnamed: 0         reviewer  rating written_date  \\\n",
       "0           0          Kelly B     2.0   2021-05-30   \n",
       "1           1              Jon     1.0   2021-05-30   \n",
       "2           2          Nerdy P     2.0   2021-05-30   \n",
       "3           3        ran101278     4.0   2021-05-29   \n",
       "4           4  tammies20132015     5.0   2021-05-28   \n",
       "\n",
       "                                               title  \\\n",
       "0  Universal is a complete Disaster - stick with ...   \n",
       "1                               Food is hard to get.   \n",
       "2                                       Disappointed   \n",
       "3                                         My opinion   \n",
       "4                  The Bourne Stuntacular...MUST SEE   \n",
       "\n",
       "                                         review_text  \\\n",
       "0  We went to Universal over Memorial Day weekend...   \n",
       "1  The food service is horrible. I’m not reviewin...   \n",
       "2  I booked this vacation mainly to ride Hagrid m...   \n",
       "3  When a person tries the test seat for the ride...   \n",
       "4  Ok, I can't stress enough to anyone and everyo...   \n",
       "\n",
       "                      branch  Converted Date  \n",
       "0  Universal Studios Florida          737940  \n",
       "1  Universal Studios Florida          737940  \n",
       "2  Universal Studios Florida          737940  \n",
       "3  Universal Studios Florida          737939  \n",
       "4  Universal Studios Florida          737938  "
      ]
     },
     "execution_count": 22,
     "metadata": {},
     "output_type": "execute_result"
    }
   ],
   "source": [
    "df.head()"
   ]
  },
  {
   "cell_type": "markdown",
   "metadata": {
    "azdata_cell_guid": "b75b6098-4152-4701-9136-a8f774c8583e"
   },
   "source": [
    "## Create Your Model\n",
    "\n",
    "Use the two columns with the strongest correlation to create and train your model. Make sure to print out the summary and plot the column values and the line produced by the model."
   ]
  },
  {
   "cell_type": "code",
   "execution_count": 8,
   "metadata": {
    "azdata_cell_guid": "05ecd9c7-e4a4-4d5c-b092-3dff597e96a3"
   },
   "outputs": [],
   "source": [
    "x = df['Converted Date']\n",
    "y = df['rating']"
   ]
  },
  {
   "cell_type": "code",
   "execution_count": 9,
   "metadata": {
    "azdata_cell_guid": "f55fbe86-74b8-44f7-af96-7448e58983d7",
    "tags": []
   },
   "outputs": [
    {
     "name": "stdout",
     "output_type": "stream",
     "text": [
      "6706     736762\n",
      "8607     736569\n",
      "28685    734693\n",
      "17046    735977\n",
      "12173    736279\n",
      "          ...  \n",
      "12119    736283\n",
      "24423    735464\n",
      "14147    736160\n",
      "23320    735560\n",
      "5640     736863\n",
      "Name: Converted Date, Length: 21434, dtype: int64\n",
      "6706     5.0\n",
      "8607     5.0\n",
      "28685    4.0\n",
      "17046    5.0\n",
      "12173    5.0\n",
      "        ... \n",
      "12119    4.0\n",
      "24423    5.0\n",
      "14147    5.0\n",
      "23320    5.0\n",
      "5640     4.0\n",
      "Name: rating, Length: 21434, dtype: float64\n"
     ]
    }
   ],
   "source": [
    "from sklearn.model_selection import train_test_split\n",
    "\n",
    "x_train, x_test, y_train, y_test = train_test_split(x, y, train_size = 0.7, test_size = 0.3, random_state = 100)\n",
    "print(x_train)\n",
    "print(y_train)\n"
   ]
  },
  {
   "cell_type": "code",
   "execution_count": 14,
   "metadata": {},
   "outputs": [
    {
     "name": "stderr",
     "output_type": "stream",
     "text": [
      "C:\\Users\\Tori\\DataAnalysis\\lib\\site-packages\\statsmodels\\tsa\\tsatools.py:142: FutureWarning: In a future version of pandas all arguments of concat except for the argument 'objs' will be keyword-only\n",
      "  x = pd.concat(x[::order], 1)\n"
     ]
    },
    {
     "data": {
      "text/html": [
       "<table class=\"simpletable\">\n",
       "<caption>OLS Regression Results</caption>\n",
       "<tr>\n",
       "  <th>Dep. Variable:</th>         <td>rating</td>      <th>  R-squared:         </th> <td>   0.002</td> \n",
       "</tr>\n",
       "<tr>\n",
       "  <th>Model:</th>                   <td>OLS</td>       <th>  Adj. R-squared:    </th> <td>   0.002</td> \n",
       "</tr>\n",
       "<tr>\n",
       "  <th>Method:</th>             <td>Least Squares</td>  <th>  F-statistic:       </th> <td>   47.86</td> \n",
       "</tr>\n",
       "<tr>\n",
       "  <th>Date:</th>             <td>Mon, 29 Aug 2022</td> <th>  Prob (F-statistic):</th> <td>4.71e-12</td> \n",
       "</tr>\n",
       "<tr>\n",
       "  <th>Time:</th>                 <td>19:14:50</td>     <th>  Log-Likelihood:    </th> <td> -32302.</td> \n",
       "</tr>\n",
       "<tr>\n",
       "  <th>No. Observations:</th>      <td> 21434</td>      <th>  AIC:               </th> <td>6.461e+04</td>\n",
       "</tr>\n",
       "<tr>\n",
       "  <th>Df Residuals:</th>          <td> 21432</td>      <th>  BIC:               </th> <td>6.462e+04</td>\n",
       "</tr>\n",
       "<tr>\n",
       "  <th>Df Model:</th>              <td>     1</td>      <th>                     </th>     <td> </td>    \n",
       "</tr>\n",
       "<tr>\n",
       "  <th>Covariance Type:</th>      <td>nonrobust</td>    <th>                     </th>     <td> </td>    \n",
       "</tr>\n",
       "</table>\n",
       "<table class=\"simpletable\">\n",
       "<tr>\n",
       "         <td></td>           <th>coef</th>     <th>std err</th>      <th>t</th>      <th>P>|t|</th>  <th>[0.025</th>    <th>0.975]</th>  \n",
       "</tr>\n",
       "<tr>\n",
       "  <th>const</th>          <td>  -39.3792</td> <td>    6.309</td> <td>   -6.241</td> <td> 0.000</td> <td>  -51.746</td> <td>  -27.013</td>\n",
       "</tr>\n",
       "<tr>\n",
       "  <th>Converted Date</th> <td>  5.93e-05</td> <td> 8.57e-06</td> <td>    6.918</td> <td> 0.000</td> <td> 4.25e-05</td> <td> 7.61e-05</td>\n",
       "</tr>\n",
       "</table>\n",
       "<table class=\"simpletable\">\n",
       "<tr>\n",
       "  <th>Omnibus:</th>       <td>5581.129</td> <th>  Durbin-Watson:     </th> <td>   2.010</td> \n",
       "</tr>\n",
       "<tr>\n",
       "  <th>Prob(Omnibus):</th>  <td> 0.000</td>  <th>  Jarque-Bera (JB):  </th> <td>11491.267</td>\n",
       "</tr>\n",
       "<tr>\n",
       "  <th>Skew:</th>           <td>-1.574</td>  <th>  Prob(JB):          </th> <td>    0.00</td> \n",
       "</tr>\n",
       "<tr>\n",
       "  <th>Kurtosis:</th>       <td> 4.719</td>  <th>  Cond. No.          </th> <td>6.23e+08</td> \n",
       "</tr>\n",
       "</table><br/><br/>Notes:<br/>[1] Standard Errors assume that the covariance matrix of the errors is correctly specified.<br/>[2] The condition number is large, 6.23e+08. This might indicate that there are<br/>strong multicollinearity or other numerical problems."
      ],
      "text/plain": [
       "<class 'statsmodels.iolib.summary.Summary'>\n",
       "\"\"\"\n",
       "                            OLS Regression Results                            \n",
       "==============================================================================\n",
       "Dep. Variable:                 rating   R-squared:                       0.002\n",
       "Model:                            OLS   Adj. R-squared:                  0.002\n",
       "Method:                 Least Squares   F-statistic:                     47.86\n",
       "Date:                Mon, 29 Aug 2022   Prob (F-statistic):           4.71e-12\n",
       "Time:                        19:14:50   Log-Likelihood:                -32302.\n",
       "No. Observations:               21434   AIC:                         6.461e+04\n",
       "Df Residuals:                   21432   BIC:                         6.462e+04\n",
       "Df Model:                           1                                         \n",
       "Covariance Type:            nonrobust                                         \n",
       "==================================================================================\n",
       "                     coef    std err          t      P>|t|      [0.025      0.975]\n",
       "----------------------------------------------------------------------------------\n",
       "const            -39.3792      6.309     -6.241      0.000     -51.746     -27.013\n",
       "Converted Date   5.93e-05   8.57e-06      6.918      0.000    4.25e-05    7.61e-05\n",
       "==============================================================================\n",
       "Omnibus:                     5581.129   Durbin-Watson:                   2.010\n",
       "Prob(Omnibus):                  0.000   Jarque-Bera (JB):            11491.267\n",
       "Skew:                          -1.574   Prob(JB):                         0.00\n",
       "Kurtosis:                       4.719   Cond. No.                     6.23e+08\n",
       "==============================================================================\n",
       "\n",
       "Notes:\n",
       "[1] Standard Errors assume that the covariance matrix of the errors is correctly specified.\n",
       "[2] The condition number is large, 6.23e+08. This might indicate that there are\n",
       "strong multicollinearity or other numerical problems.\n",
       "\"\"\""
      ]
     },
     "execution_count": 14,
     "metadata": {},
     "output_type": "execute_result"
    }
   ],
   "source": [
    "import statsmodels.api as sm\n",
    "\n",
    "x_train_sm = sm.add_constant(x_train)\n",
    "\n",
    "lr = sm.OLS(y_train, x_train_sm).fit()\n",
    "\n",
    "lr.params\n",
    "\n",
    "\n",
    "lr.summary()"
   ]
  },
  {
   "cell_type": "code",
   "execution_count": 15,
   "metadata": {},
   "outputs": [
    {
     "data": {
      "image/png": "[encoded data removed]",
      "text/plain": [
       "<Figure size 1080x576 with 1 Axes>"
      ]
     },
     "metadata": {},
     "output_type": "display_data"
    }
   ],
   "source": [
    "plt.scatter(x_train, y_train)\n",
    "plt.plot(x_train, -43206.067012 + 21.509716*x_train, 'r')\n",
    "plt.show()\n"
   ]
  },
  {
   "cell_type": "markdown",
   "metadata": {
    "azdata_cell_guid": "c021f50d-92b2-4359-b3a9-c47f62f0a94f"
   },
   "source": [
    "## Error Terms\n",
    "\n",
    "Finally, plot your error terms!"
   ]
  },
  {
   "cell_type": "code",
   "execution_count": 12,
   "metadata": {},
   "outputs": [],
   "source": [
    "y_train_pred = lr.predict(x_train_sm)\n",
    "res = (y_train - y_train_pred)"
   ]
  },
  {
   "cell_type": "code",
   "execution_count": 13,
   "metadata": {},
   "outputs": [
    {
     "name": "stderr",
     "output_type": "stream",
     "text": [
      "C:\\Users\\Tori\\DataAnalysis\\lib\\site-packages\\seaborn\\distributions.py:2619: FutureWarning: `distplot` is a deprecated function and will be removed in a future version. Please adapt your code to use either `displot` (a figure-level function with similar flexibility) or `histplot` (an axes-level function for histograms).\n",
      "  warnings.warn(msg, FutureWarning)\n"
     ]
    },
    {
     "data": {
      "image/png": "[encoded data removed]",
      "text/plain": [
       "<Figure size 1080x576 with 1 Axes>"
      ]
     },
     "metadata": {},
     "output_type": "display_data"
    }
   ],
   "source": [
    "fig = plt.figure()\n",
    "sb.distplot(res, bins = 15)\n",
    "plt.title('Error Terms', fontsize = 15)\n",
    "plt.xlabel('y_train - y_train_pred', fontsize = 15)\n",
    "plt.show()\n"
   ]
  },
  {
   "cell_type": "markdown",
   "metadata": {
    "azdata_cell_guid": "5fc50d24-c873-4801-87f2-a1e518caf424"
   },
   "source": [
    "## Summarize Your Work\n",
    "\n",
    "Make notes of your answers to the questions below.\n",
    "\n",
    "1. What was your R-squared value? 0.002\n",
    "2. Based on your results, do you think a linear regression model was the best type of predictive analysis for your dataset? It was effective.\n",
    "3. Was your plot of the error terms a bell curve? Not at all"
   ]
  }
 ],
 "metadata": {
  "kernelspec": {
   "display_name": "Python 3 (ipykernel)",
   "language": "python",
   "name": "python3"
  },
  "language_info": {
   "codemirror_mode": {
    "name": "ipython",
    "version": 3
   },
   "file_extension": ".py",
   "mimetype": "text/x-python",
   "name": "python",
   "nbconvert_exporter": "python",
   "pygments_lexer": "ipython3",
   "version": "3.9.7"
  }
 },
 "nbformat": 4,
 "nbformat_minor": 2
}
